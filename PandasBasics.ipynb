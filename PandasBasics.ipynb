{
  "nbformat": 4,
  "nbformat_minor": 0,
  "metadata": {
    "colab": {
      "provenance": []
    },
    "kernelspec": {
      "name": "python3",
      "display_name": "Python 3"
    },
    "language_info": {
      "name": "python"
    }
  },
  "cells": [
    {
      "cell_type": "code",
      "execution_count": 30,
      "metadata": {
        "colab": {
          "base_uri": "https://localhost:8080/"
        },
        "id": "2TnxlJOCTD7L",
        "outputId": "0f9dbde2-519d-47e9-b886-9414212fd0c4"
      },
      "outputs": [
        {
          "output_type": "stream",
          "name": "stdout",
          "text": [
            "     imie  Wiek Miejsce zamieszkania\n",
            "0    Anna    22               Gdańsk\n",
            "1  Damian    33               Gdańsk\n",
            "2  Bartek    18              Olsztyn\n",
            "3   Kasia    21                  Ełk\n",
            "\n",
            "*osoby powyżej 21 roku życia*\n",
            "     imie  Wiek Miejsce zamieszkania\n",
            "0    Anna    22               Gdańsk\n",
            "1  Damian    33               Gdańsk\n",
            "\n",
            "*od najniższego do najwyższego wieku życia*\n",
            "     imie  Wiek Miejsce zamieszkania\n",
            "2  Bartek    18              Olsztyn\n",
            "3   Kasia    21                  Ełk\n",
            "0    Anna    22               Gdańsk\n",
            "1  Damian    33               Gdańsk\n",
            "\n",
            "średnia wieku: \n",
            "23.5\n",
            "\n",
            "*średni wiek ludzi z danego miasta*\n",
            "Miejsce zamieszkania\n",
            "Ełk        21.0\n",
            "Gdańsk     27.5\n",
            "Olsztyn    18.0\n",
            "Name: Wiek, dtype: float64\n"
          ]
        }
      ],
      "source": [
        "import pandas as pd\n",
        "\n",
        "data = {\n",
        "    'imie': ['Anna', 'Damian', 'Bartek', 'Kasia'],\n",
        "    'Wiek': [22, 33, 18, 21],\n",
        "    'Miejsce zamieszkania': ['Gdańsk', 'Gdańsk', 'Olsztyn', 'Ełk']\n",
        "}\n",
        "df = pd.DataFrame(data)\n",
        "print(df)\n",
        "\n",
        "print()\n",
        "\n",
        "print(\"*osoby powyżej 21 roku życia*\")\n",
        "df_filtr = df[df['Wiek'] > 21]\n",
        "print(df_filtr)\n",
        "\n",
        "print()\n",
        "\n",
        "print(\"*od najniższego do najwyższego wieku życia*\")\n",
        "df_sort = df.sort_values(by = 'Wiek')\n",
        "print(df_sort)\n",
        "\n",
        "print()\n",
        "\n",
        "print(\"średnia wieku: \")\n",
        "mean_age = df['Wiek'].mean()\n",
        "print(mean_age)\n",
        "\n",
        "print()\n",
        "\n",
        "print(\"*średni wiek ludzi z danego miasta*\")\n",
        "mean_city_age = df.groupby('Miejsce zamieszkania')['Wiek'].mean()\n",
        "print(mean_city_age)"
      ]
    },
    {
      "cell_type": "code",
      "source": [],
      "metadata": {
        "id": "QYApre8TVFe3"
      },
      "execution_count": null,
      "outputs": []
    }
  ]
}