{
  "nbformat": 4,
  "nbformat_minor": 0,
  "metadata": {
    "colab": {
      "provenance": []
    },
    "kernelspec": {
      "name": "python3",
      "display_name": "Python 3"
    },
    "language_info": {
      "name": "python"
    }
  },
  "cells": [
    {
      "cell_type": "code",
      "execution_count": 2,
      "metadata": {
        "colab": {
          "base_uri": "https://localhost:8080/"
        },
        "id": "Ov8xUMkpz-U6",
        "outputId": "615cf936-6f97-4cd8-d980-8eaada25b458"
      },
      "outputs": [
        {
          "output_type": "stream",
          "name": "stdout",
          "text": [
            "Podaj liczbę a= 4\n",
            "Liczba jest Parzysta\n"
          ]
        }
      ],
      "source": [
        "def CzyParzyste (a):\n",
        "  if a % 2 == 0:\n",
        "    print(\"Liczba jest Parzysta\")\n",
        "  else:\n",
        "    print(\"Liczba nie jest Parzysta\")\n",
        "a = int(input(\"Podaj liczbę a= \"))\n",
        "CzyParzyste(a)\n"
      ]
    },
    {
      "cell_type": "code",
      "source": [
        "\"\"\"Napisz funkcję Silnia(n), która oblicza silnię liczby n przy użyciu rekurencji. Następnie poproś użytkownika o podanie liczby n i wyświetl wynik.\n",
        "\"\"\"\n",
        "def silnia(n):\n",
        "  if n == 0 or n == 1:\n",
        "    return 1\n",
        "  else:\n",
        "    return n * silnia(n-1)\n",
        "n = int(input(\"Podaj liczbę: \"))\n",
        "print(silnia(n))"
      ],
      "metadata": {
        "colab": {
          "base_uri": "https://localhost:8080/"
        },
        "id": "Ve3alWOs1HIu",
        "outputId": "5fb4a81a-8166-4e9b-8885-610b0f1005d3"
      },
      "execution_count": 4,
      "outputs": [
        {
          "output_type": "stream",
          "name": "stdout",
          "text": [
            "Podaj liczbę: 5\n",
            "120\n"
          ]
        }
      ]
    },
    {
      "cell_type": "code",
      "source": [
        "\"\"\"Napisz funkcję Fibonacci(n), która oblicza n-tą liczbę Fibonacciego przy użyciu rekurencji. Następnie poproś użytkownika o podanie liczby n i wyświetl wynik.\n",
        "F(n) = F(n-1) + F(n-2), gdzie F(0) = 0 i F(1) = 1\"\"\"\n",
        "def Fib(n):\n",
        "  if n == 0:\n",
        "    return 0\n",
        "  elif n == 1 or n==2:\n",
        "    return 1\n",
        "  else:\n",
        "    return Fib(n-1) + Fib(n-2)\n",
        "n= int(input(\"Podaj liczbę: \"))\n",
        "print(Fib(n))\n",
        "\n"
      ],
      "metadata": {
        "colab": {
          "base_uri": "https://localhost:8080/"
        },
        "id": "xnQK08_q3NNV",
        "outputId": "e97510dc-4eaf-44ac-8d66-351181aed9ac"
      },
      "execution_count": 15,
      "outputs": [
        {
          "output_type": "stream",
          "name": "stdout",
          "text": [
            "Podaj liczbę: 16\n",
            "987\n"
          ]
        }
      ]
    },
    {
      "cell_type": "code",
      "source": [
        "tekst= \"Janek\"\n",
        "print(tekst[::-1])"
      ],
      "metadata": {
        "colab": {
          "base_uri": "https://localhost:8080/"
        },
        "id": "z-eJ3p5a62Yz",
        "outputId": "49bb6e7d-c4fa-498e-ffdd-1b7e99c5add9"
      },
      "execution_count": 20,
      "outputs": [
        {
          "output_type": "stream",
          "name": "stdout",
          "text": [
            "kenaJ\n"
          ]
        }
      ]
    },
    {
      "cell_type": "code",
      "source": [
        "def tekst(a):\n",
        "  if a==a[::-1]:\n",
        "    return print(\"słowo jest palindromem\")\n",
        "  else:\n",
        "    return print(\"słowo nie jest palindromem\")\n",
        "a = input(\"Podaj słowo: \")\n",
        "print(tekst(a))"
      ],
      "metadata": {
        "colab": {
          "base_uri": "https://localhost:8080/"
        },
        "id": "cmCJTJ_O78jt",
        "outputId": "c21c9a6a-2660-430d-8bbb-07d04df52f32"
      },
      "execution_count": 28,
      "outputs": [
        {
          "output_type": "stream",
          "name": "stdout",
          "text": [
            "Podaj słowo: kupa\n",
            "słowo nie jest palindromem\n",
            "None\n"
          ]
        }
      ]
    }
  ]
}