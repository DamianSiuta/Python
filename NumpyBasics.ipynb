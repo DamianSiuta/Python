{
  "nbformat": 4,
  "nbformat_minor": 0,
  "metadata": {
    "colab": {
      "provenance": []
    },
    "kernelspec": {
      "name": "python3",
      "display_name": "Python 3"
    },
    "language_info": {
      "name": "python"
    }
  },
  "cells": [
    {
      "cell_type": "code",
      "execution_count": 8,
      "metadata": {
        "colab": {
          "base_uri": "https://localhost:8080/"
        },
        "id": "qbJrQgEBD8vA",
        "outputId": "45b6abf0-86d3-426c-daeb-4f85c8b4fa34"
      },
      "outputs": [
        {
          "output_type": "stream",
          "name": "stdout",
          "text": [
            "[1 2 3 4 5]\n"
          ]
        }
      ],
      "source": [
        "import numpy as np\n",
        "a = np.array([1, 2, 3, 4, 5])\n",
        "print(a)"
      ]
    },
    {
      "cell_type": "code",
      "source": [
        "import numpy as np\n",
        "a = np.arange(1, 11)\n",
        "print(a)"
      ],
      "metadata": {
        "colab": {
          "base_uri": "https://localhost:8080/"
        },
        "id": "CMyb0zNAKgDA",
        "outputId": "92daded6-09cb-4171-fe55-fce6330883c5"
      },
      "execution_count": 12,
      "outputs": [
        {
          "output_type": "stream",
          "name": "stdout",
          "text": [
            "[ 1  2  3  4  5  6  7  8  9 10]\n"
          ]
        }
      ]
    },
    {
      "cell_type": "code",
      "source": [
        "import numpy as np\n",
        "a = np.arange(1, 22)\n",
        "print(a/3)\n",
        "print(a*2)\n"
      ],
      "metadata": {
        "colab": {
          "base_uri": "https://localhost:8080/"
        },
        "id": "iR7JB0GtLZDg",
        "outputId": "3cfb0bfe-d62a-4fd7-ec08-99e9ba7f06e7"
      },
      "execution_count": 19,
      "outputs": [
        {
          "output_type": "stream",
          "name": "stdout",
          "text": [
            "[0.33333333 0.66666667 1.         1.33333333 1.66666667 2.\n",
            " 2.33333333 2.66666667 3.         3.33333333 3.66666667 4.\n",
            " 4.33333333 4.66666667 5.         5.33333333 5.66666667 6.\n",
            " 6.33333333 6.66666667 7.        ]\n",
            "[ 2  4  6  8 10 12 14 16 18 20 22 24 26 28 30 32 34 36 38 40 42]\n"
          ]
        }
      ]
    },
    {
      "cell_type": "code",
      "source": [
        "import numpy as np\n",
        "matrix = np.arange(1,10).reshape(3, 3)\n",
        "print(matrix)"
      ],
      "metadata": {
        "colab": {
          "base_uri": "https://localhost:8080/"
        },
        "id": "cZUfJ5HgNKTu",
        "outputId": "bdc8077a-510b-4cd8-d530-eacef9f08687"
      },
      "execution_count": 20,
      "outputs": [
        {
          "output_type": "stream",
          "name": "stdout",
          "text": [
            "[[1 2 3]\n",
            " [4 5 6]\n",
            " [7 8 9]]\n"
          ]
        }
      ]
    },
    {
      "cell_type": "code",
      "source": [
        "import numpy as np\n",
        "matrix = np.array([[22, 33, 44,],[34, 11, 56],[9, 10, 7]])\n",
        "print(matrix[1, 2])\n",
        "print(matrix[1, 1])\n",
        "print(matrix[:, 1])\n",
        "\n"
      ],
      "metadata": {
        "colab": {
          "base_uri": "https://localhost:8080/"
        },
        "id": "UxAXSZ7XNeoo",
        "outputId": "da6838c8-2528-4258-880f-633d3e3d7512"
      },
      "execution_count": 24,
      "outputs": [
        {
          "output_type": "stream",
          "name": "stdout",
          "text": [
            "56\n",
            "11\n",
            "[33 11 10]\n"
          ]
        }
      ]
    },
    {
      "cell_type": "code",
      "source": [
        "import numpy as np\n",
        "stat = np.array([11, 33, 54, 23, 13, 55, 213])\n",
        "print(np.mean(stat))\n",
        "print(np.max(stat))\n",
        "print(np.sum(stat))"
      ],
      "metadata": {
        "colab": {
          "base_uri": "https://localhost:8080/"
        },
        "id": "POF7NXDROvO7",
        "outputId": "14e7af32-c327-4b28-8982-2bb9f2e2741e"
      },
      "execution_count": 26,
      "outputs": [
        {
          "output_type": "stream",
          "name": "stdout",
          "text": [
            "57.42857142857143\n",
            "213\n",
            "402\n"
          ]
        }
      ]
    },
    {
      "cell_type": "code",
      "source": [
        "import numpy as np\n",
        "rand = np.random.randint(1, 324, size = 7)\n",
        "print(rand)"
      ],
      "metadata": {
        "colab": {
          "base_uri": "https://localhost:8080/"
        },
        "id": "mOmzrbRQP7K3",
        "outputId": "217e67da-982f-4dd3-d571-dd07fefe0f10"
      },
      "execution_count": 38,
      "outputs": [
        {
          "output_type": "stream",
          "name": "stdout",
          "text": [
            "[105 249 225 161 214 236 270]\n"
          ]
        }
      ]
    }
  ]
}